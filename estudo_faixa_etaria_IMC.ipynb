{
 "cells": [
  {
   "cell_type": "code",
   "execution_count": 60,
   "metadata": {},
   "outputs": [],
   "source": [
    "import pandas as pd"
   ]
  },
  {
   "cell_type": "code",
   "execution_count": 2,
   "metadata": {},
   "outputs": [],
   "source": [
    "file = \"amostra.csv\"\n",
    "data = pd.read_csv(file)"
   ]
  },
  {
   "cell_type": "markdown",
   "metadata": {},
   "source": [
    "### Visão do DataFrame"
   ]
  },
  {
   "cell_type": "code",
   "execution_count": 3,
   "metadata": {},
   "outputs": [
    {
     "name": "stdout",
     "output_type": "stream",
     "text": [
      "DSEI_GESTAO                  object\n",
      "DS_POLO_BASE                 object\n",
      "CO_MUNICIPIO_IBGE             int64\n",
      "NO_MUNICIPIO                 object\n",
      "SG_UF                        object\n",
      "CO_INDIO_DESIDENTIFICADO     object\n",
      "TP_SEXO                      object\n",
      "DT_ATENDIMENTO               object\n",
      "NU_PESO                     float64\n",
      "NU_ALTURA                   float64\n",
      "IDADE_ATEND                  object\n",
      "FAIXA_ETARIA                 object\n",
      "TIPO_ALEITAMENTO             object\n",
      "DS_PESO_IDADE                object\n",
      "DS_ESTATURA_IDADE            object\n",
      "DS_IMC_IDADE                 object\n",
      "dtype: object\n"
     ]
    }
   ],
   "source": [
    "df = pd.DataFrame(data)\n",
    "print(df.dtypes)"
   ]
  },
  {
   "cell_type": "markdown",
   "metadata": {},
   "source": [
    "### Visão dos dados da coluna DS_IMC_IDADE"
   ]
  },
  {
   "cell_type": "code",
   "execution_count": 4,
   "metadata": {},
   "outputs": [
    {
     "name": "stdout",
     "output_type": "stream",
     "text": [
      "['EUTROFIA' 'RISCO DE SOBREPESO' 'SOBREPESO' 'MAGREZA' 'OBESIDADE'\n",
      " 'MAGREZA ACENTUADA']\n"
     ]
    }
   ],
   "source": [
    "visao_ds_imc_idade = df['DS_IMC_IDADE'].unique()\n",
    "print(visao_ds_imc_idade)"
   ]
  },
  {
   "cell_type": "markdown",
   "metadata": {},
   "source": [
    "### Contagem de dados da coluna DS_IMC_IDADE"
   ]
  },
  {
   "cell_type": "code",
   "execution_count": 5,
   "metadata": {},
   "outputs": [
    {
     "name": "stdout",
     "output_type": "stream",
     "text": [
      "Valor Total: 9181 \n",
      "Qtd. Eutofria: 5694 \n",
      "Qtd. Risco Sobrepeso: 2040 \n",
      "Qtd. Sobrepeso: 757 \n",
      "Qtd. Magreza 197 \n",
      "Qtd. Obesidade: 355 \n",
      "Qtd. Magreza Acentuada: 138\n"
     ]
    }
   ],
   "source": [
    "qtd_total = df['DS_IMC_IDADE'].count()\n",
    "qtd_eutrofia = (df['DS_IMC_IDADE'] == \"EUTROFIA\").sum()\n",
    "qtd_risco_sobrepeso = (df['DS_IMC_IDADE'] == \"RISCO DE SOBREPESO\").sum()\n",
    "qtd_sobrepeso = (df['DS_IMC_IDADE'] == \"SOBREPESO\").sum()\n",
    "qtd_magreza = (df['DS_IMC_IDADE'] == \"MAGREZA\").sum()\n",
    "qtd_obesidade = (df['DS_IMC_IDADE'] == \"OBESIDADE\").sum()\n",
    "qtd_magreza_acentuada = (df['DS_IMC_IDADE'] == \"MAGREZA ACENTUADA\").sum()\n",
    "print(\"Valor Total:\", qtd_total,\n",
    "      \"\\nQtd. Eutofria:\", qtd_eutrofia, \"\\nQtd. Risco Sobrepeso:\", qtd_risco_sobrepeso\n",
    "      , \"\\nQtd. Sobrepeso:\", qtd_sobrepeso, \"\\nQtd. Magreza\", qtd_magreza\n",
    "      , \"\\nQtd. Obesidade:\", qtd_obesidade, \"\\nQtd. Magreza Acentuada:\", qtd_magreza_acentuada)"
   ]
  },
  {
   "cell_type": "markdown",
   "metadata": {},
   "source": [
    "### Visão dos Dados com o Filtro de Eutrofia"
   ]
  },
  {
   "cell_type": "code",
   "execution_count": 7,
   "metadata": {},
   "outputs": [
    {
     "name": "stdout",
     "output_type": "stream",
     "text": [
      "['ENTRE 2 ANOS A 5 ANOS' 'MENOR DE 6 MESES' 'ENTRE 6 MESES A 2 ANOS']\n"
     ]
    }
   ],
   "source": [
    "df_visao_eutrofia = df[df['DS_IMC_IDADE'] == \"EUTROFIA\"]\n",
    "df_visao_colunas = df_visao_eutrofia['FAIXA_ETARIA'].unique()\n",
    "print(df_visao_colunas)"
   ]
  },
  {
   "cell_type": "markdown",
   "metadata": {},
   "source": [
    "### Visão das Faixas Etárias"
   ]
  },
  {
   "cell_type": "code",
   "execution_count": 76,
   "metadata": {},
   "outputs": [
    {
     "name": "stdout",
     "output_type": "stream",
     "text": [
      "Valor Total:  9181\n",
      "Quantidade Faixa 2 a 5 anos: 5480\n",
      "Quantidade Faixa menor de 6 meses: 810\n",
      "Quantidade Entre 6 meses a 2 anos: 2891\n"
     ]
    }
   ],
   "source": [
    "qtd_total_faixa_etaria = (df['FAIXA_ETARIA']).count()\n",
    "qtd_faixa_2_a_5_anos = (df['FAIXA_ETARIA'] == \"ENTRE 2 ANOS A 5 ANOS\").sum()\n",
    "qtd_faixa_menor_6_meses = (df['FAIXA_ETARIA'] == 'MENOR DE 6 MESES').sum()\n",
    "qtd_entre_6_a_2_meses = (df['FAIXA_ETARIA'] == 'ENTRE 6 MESES A 2 ANOS').sum()\n",
    "\n",
    "print(\"Valor Total: \", qtd_total_faixa_etaria)\n",
    "print(\"Quantidade Faixa 2 a 5 anos:\", qtd_faixa_2_a_5_anos)\n",
    "print(\"Quantidade Faixa menor de 6 meses:\", qtd_faixa_menor_6_meses)\n",
    "print(\"Quantidade Entre 6 meses a 2 anos:\", qtd_entre_6_a_2_meses)"
   ]
  },
  {
   "cell_type": "markdown",
   "metadata": {},
   "source": [
    "### Filtragens e Somas"
   ]
  },
  {
   "cell_type": "code",
   "execution_count": 77,
   "metadata": {},
   "outputs": [
    {
     "name": "stdout",
     "output_type": "stream",
     "text": [
      "Valor Eutrofia: 3666 \n",
      "Valor de Risco de Sobrepeso: 1132 \n",
      "Valor de Sobrepeso: 358 \n",
      "Valor de Magreza: 100 \n",
      "Valor de Obesidade: 156 \n",
      "Valor de Magreza Acentuada: 68\n"
     ]
    }
   ],
   "source": [
    "df_sobrepeso = df[df['DS_IMC_IDADE'] == \"SOBREPESO\"]\n",
    "qtd_faixa_2_a_5_anos_sobrepeso = (df_sobrepeso['FAIXA_ETARIA'] == \"ENTRE 2 ANOS A 5 ANOS\").sum()\n",
    "\n",
    "df_magreza = df[df['DS_IMC_IDADE'] == \"MAGREZA\"]\n",
    "qtd_faixa_2_a_5_anos_magreza = (df_magreza['FAIXA_ETARIA'] == \"ENTRE 2 ANOS A 5 ANOS\").sum()\n",
    "\n",
    "df_obesidade = df[df['DS_IMC_IDADE'] == \"OBESIDADE\"]\n",
    "qtd_faixa_2_a_5_anos_obesidade = (df_obesidade['FAIXA_ETARIA'] == \"ENTRE 2 ANOS A 5 ANOS\").sum()\n",
    "\n",
    "df_magreza_acentuada = df[df['DS_IMC_IDADE'] == \"MAGREZA ACENTUADA\"]\n",
    "qtd_faixa_2_a_5_anos_magreza_acentuada = (df_magreza_acentuada['FAIXA_ETARIA'] == \"ENTRE 2 ANOS A 5 ANOS\").sum()\n",
    "\n",
    "df_risco_sobrepeso = df[df['DS_IMC_IDADE'] == \"RISCO DE SOBREPESO\"]\n",
    "qtd_faixa_2_a_5_anos_risco_sobrepeso = (df_risco_sobrepeso['FAIXA_ETARIA'] == \"ENTRE 2 ANOS A 5 ANOS\").sum()\n",
    "\n",
    "df_eutrofia = df[df['DS_IMC_IDADE'] == \"EUTROFIA\"]\n",
    "qtd_faixa_2_a_5_anos_eutrofia = (df_eutrofia['FAIXA_ETARIA'] == \"ENTRE 2 ANOS A 5 ANOS\").sum()\n",
    "\n",
    "print(\"Valor Eutrofia:\", qtd_faixa_2_a_5_anos_eutrofia\n",
    "      ,\"\\nValor de Risco de Sobrepeso:\", qtd_faixa_2_a_5_anos_risco_sobrepeso\n",
    "      ,\"\\nValor de Sobrepeso:\", qtd_faixa_2_a_5_anos_sobrepeso\n",
    "      ,\"\\nValor de Magreza:\", qtd_faixa_2_a_5_anos_magreza\n",
    "      ,\"\\nValor de Obesidade:\", qtd_faixa_2_a_5_anos_obesidade\n",
    "      ,\"\\nValor de Magreza Acentuada:\", qtd_faixa_2_a_5_anos_magreza_acentuada\n",
    "\n",
    "      )\n"
   ]
  },
  {
   "cell_type": "markdown",
   "metadata": {},
   "source": [
    "### Média de casos\n",
    "##### Média baseada em indivíduos de faixa etaria: 2 a 5 anos"
   ]
  },
  {
   "cell_type": "code",
   "execution_count": 78,
   "metadata": {},
   "outputs": [
    {
     "name": "stdout",
     "output_type": "stream",
     "text": [
      "Média em Porcentagem: IMC na faixa etária de 2 a 5 anos \n",
      "\n",
      "PC Eutrofia: 39.93% \n",
      "PC Risco de Sobrepeso: 12.33% \n",
      "PC Sobrepeso: 3.90% \n",
      "PC Magreza: 1.09% \n",
      "PC Obesidade: 1.70% \n",
      "PC Magreza Acentuada: 0.74% \n",
      "\n",
      "Valor Total: 59.69%\n"
     ]
    }
   ],
   "source": [
    "#Eutrofia\n",
    "media_eutrofia_2_5_anos = (qtd_faixa_2_a_5_anos_eutrofia / qtd_total) * 100\n",
    "\n",
    "#Risco de sobrepeso\n",
    "media_faixa_2_5_anos_risco_sobrepeso = (qtd_faixa_2_a_5_anos_risco_sobrepeso / qtd_total) * 100 \n",
    "\n",
    "#Sobrepeso\n",
    "media_faixa_2_5_anos_sobrepeso = (qtd_faixa_2_a_5_anos_sobrepeso / qtd_total) * 100\n",
    "\n",
    "#Magreza\n",
    "media_faixa_2_5_anos_magreza = (qtd_faixa_2_a_5_anos_magreza / qtd_total) * 100\n",
    "\n",
    "#Obesidade\n",
    "media_faixa_2_5_anos_obesidade = (qtd_faixa_2_a_5_anos_obesidade / qtd_total) * 100\n",
    "\n",
    "#Magreza Acentuada \n",
    "media_faixa_2_5_anos_magreza_acentuada = (qtd_faixa_2_a_5_anos_magreza_acentuada / qtd_total) * 100\n",
    "\n",
    "#Valor total\n",
    "total_2_5_anos = media_eutrofia_2_5_anos + media_faixa_2_5_anos_risco_sobrepeso + media_faixa_2_5_anos_sobrepeso + media_faixa_2_5_anos_magreza + media_faixa_2_5_anos_obesidade + media_faixa_2_5_anos_magreza_acentuada\n",
    "print(\"Média em Porcentagem: IMC na faixa etária de 2 a 5 anos\"\n",
    "      ,\"\\n\\nPC Eutrofia: {:.2f}%\".format(media_eutrofia_2_5_anos)\n",
    "      ,\"\\nPC Risco de Sobrepeso: {:.2f}%\".format(media_faixa_2_5_anos_risco_sobrepeso)\n",
    "      ,\"\\nPC Sobrepeso: {:.2f}%\".format(media_faixa_2_5_anos_sobrepeso)\n",
    "      ,\"\\nPC Magreza: {:.2f}%\".format(media_faixa_2_5_anos_magreza)\n",
    "      ,\"\\nPC Obesidade: {:.2f}%\".format(media_faixa_2_5_anos_obesidade)\n",
    "      ,\"\\nPC Magreza Acentuada: {:.2f}%\".format(media_faixa_2_5_anos_magreza_acentuada)\n",
    "      ,\"\\n\\nValor Total: {:.2f}%\".format(total_2_5_anos)\n",
    "    )"
   ]
  },
  {
   "cell_type": "code",
   "execution_count": 79,
   "metadata": {},
   "outputs": [
    {
     "name": "stdout",
     "output_type": "stream",
     "text": [
      "Saídas Esperadas: \n",
      "\n",
      "PC Eutrofia: 0.3993029081799368 \n",
      "PC Risco de Sobrepeso: 0.1232981156736739 \n",
      "PC Sobrepeso: 0.038993573684783796 \n",
      "PC Magreza: 0.010892059688487093 \n",
      "PC Obesidade: 0.016991613114039864 \n",
      "PC Magreza Acentuada: 0.007406600588171223 \n",
      "\n",
      "Valor Total: 0.5968848709290927\n"
     ]
    }
   ],
   "source": [
    "# Eutrofia\n",
    "media_eutrofia_2_5_anos = qtd_faixa_2_a_5_anos_eutrofia / qtd_total\n",
    "\n",
    "# Risco de sobrepeso\n",
    "media_faixa_2_5_anos_risco_sobrepeso = qtd_faixa_2_a_5_anos_risco_sobrepeso / qtd_total\n",
    "\n",
    "# Sobrepeso\n",
    "media_faixa_2_5_anos_sobrepeso = qtd_faixa_2_a_5_anos_sobrepeso / qtd_total\n",
    "\n",
    "# Magreza\n",
    "media_faixa_2_5_anos_magreza = qtd_faixa_2_a_5_anos_magreza / qtd_total\n",
    "\n",
    "# Obesidade\n",
    "media_faixa_2_5_anos_obesidade = qtd_faixa_2_a_5_anos_obesidade / qtd_total \n",
    "\n",
    "# Magreza Acentuada \n",
    "media_faixa_2_5_anos_magreza_acentuada = qtd_faixa_2_a_5_anos_magreza_acentuada / qtd_total\n",
    "\n",
    "# Valor total\n",
    "total_2_5_anos = media_eutrofia_2_5_anos + media_faixa_2_5_anos_risco_sobrepeso + media_faixa_2_5_anos_sobrepeso + media_faixa_2_5_anos_magreza + media_faixa_2_5_anos_obesidade + media_faixa_2_5_anos_magreza_acentuada\n",
    "print(\"Saídas Esperadas:\"\n",
    "      , \"\\n\\nPC Eutrofia:\", media_eutrofia_2_5_anos\n",
    "      , \"\\nPC Risco de Sobrepeso:\", media_faixa_2_5_anos_risco_sobrepeso\n",
    "      , \"\\nPC Sobrepeso:\", media_faixa_2_5_anos_sobrepeso\n",
    "      , \"\\nPC Magreza:\", media_faixa_2_5_anos_magreza\n",
    "      , \"\\nPC Obesidade:\", media_faixa_2_5_anos_obesidade\n",
    "      , \"\\nPC Magreza Acentuada:\", media_faixa_2_5_anos_magreza_acentuada\n",
    "      , \"\\n\\nValor Total:\", total_2_5_anos)\n"
   ]
  },
  {
   "cell_type": "markdown",
   "metadata": {},
   "source": [
    "### Teste de Qui-Quadro"
   ]
  },
  {
   "cell_type": "code",
   "execution_count": 80,
   "metadata": {},
   "outputs": [
    {
     "name": "stdout",
     "output_type": "stream",
     "text": [
      "Teste de Qui-Quadrado: 238.15165939303466\n",
      "Valor p: 1.932076128835257e-52\n"
     ]
    }
   ],
   "source": [
    "from scipy.stats import chi2_contingency\n",
    "\n",
    "# Dados \n",
    "observacoes = [3666, 1132, 358, 100, 156, 68]\n",
    "total_com_risco_sobrepeso = 9181\n",
    "\n",
    "# Porcentagens calculadas com base nos valores fornecidos\n",
    "proporcoes_esperadas = [0.3993, 0.1232, 0.0389, 0.0108, 0.0169, 0.0074]\n",
    "\n",
    "# Calcula as expectativas sob a hipótese nula\n",
    "expectativas = [prop * total_com_risco_sobrepeso for prop in proporcoes_esperadas]\n",
    "\n",
    "# Reorganiza os dados em uma tabela de contingência\n",
    "tabela_contingencia = [observacoes[:3], observacoes[3:]]\n",
    "\n",
    "# Realiza o teste qui-quadrado de independência\n",
    "chi2, p_valor, _, _ = chi2_contingency(tabela_contingencia)\n",
    "\n",
    "# Exibe o resultado\n",
    "print(f\"Teste de Qui-Quadrado: {chi2}\")\n",
    "print(f\"Valor p: {p_valor}\")\n"
   ]
  },
  {
   "cell_type": "code",
   "execution_count": 52,
   "metadata": {},
   "outputs": [
    {
     "name": "stdout",
     "output_type": "stream",
     "text": [
      "[42.0, 43.0, 44.0, 45.0, 46.0, 47.0, 47.5, 48.0, 48.5, 49.0, 50.0, 51.0, 51.5, 52.0, 53.0, 53.5, 54.0, 54.5, 55.0, 55.5, 56.0, 56.5, 57.0, 57.5, 58.0, 58.5, 59.0, 59.5, 60.0, 60.5, 61.0, 61.5, 62.0, 62.5, 63.0, 63.5, 64.0, 64.5, 65.0, 65.5, 66.0, 66.5, 67.0, 67.5, 68.0, 68.5, 69.0, 69.5, 70.0, 70.5, 71.0, 71.5, 72.0, 72.5, 73.0, 73.5, 74.0, 74.5, 75.0, 75.5, 76.0, 76.5, 77.0, 77.5, 78.0, 78.5, 79.0, 79.5, 80.0, 80.5, 81.0, 81.5, 82.0, 82.5, 83.0, 83.5, 84.0, 84.5, 85.0, 85.5, 86.0, 86.5, 87.0, 87.5, 88.0, 88.5, 89.0, 89.5, 90.0, 90.5, 91.0, 91.5, 92.0, 92.5, 93.0, 93.5, 94.0, 94.5, 95.0, 95.5, 96.0, 96.5, 97.0, 97.5, 98.0, 98.5, 99.0, 99.5, 100.0, 100.5, 101.0, 101.5, 102.0, 102.5, 103.0, 103.5, 104.0, 104.5, 105.0, 105.5, 106.0, 106.5, 107.0, 107.5, 108.0, 108.5, 109.0, 110.0, 110.5, 111.0, 111.5, 112.0, 113.0, 113.5, 114.0, 115.0, 116.0, 117.0, 118.0, 119.0, 120.0, 122.0, 123.0, 132.0, 134.0]\n"
     ]
    }
   ],
   "source": [
    "teste = df['NU_ALTURA'].unique()\n",
    "teste = sorted(teste, reverse=False)\n",
    "print(teste)"
   ]
  },
  {
   "cell_type": "markdown",
   "metadata": {},
   "source": [
    "### Porcentagem de indivíduos com: \n",
    "#### Faixa etária entre 2 anos a 5 anos\n",
    "#### Peso adequado para idade"
   ]
  },
  {
   "cell_type": "code",
   "execution_count": 38,
   "metadata": {},
   "outputs": [
    {
     "name": "stdout",
     "output_type": "stream",
     "text": [
      "Total: 9181\n",
      "Estatura Adequada para a idade:42.75% \n",
      "Baixa Estatura para a idade:8.71% \n",
      "Muito Baixa Estatura para a idade:2.80%\n"
     ]
    }
   ],
   "source": [
    "df_visao_estatura = df[(df['FAIXA_ETARIA'] == \"ENTRE 2 ANOS A 5 ANOS\") & (df['DS_PESO_IDADE'] == 'PESO ADEQUADO PARA A IDADE')]\n",
    "\n",
    "qtd_est_adequada = ((df_visao_estatura['DS_ESTATURA_IDADE'] == 'ESTATURA ADEQUADA PARA A IDADE').sum() / qtd_total) * 100\n",
    "qtd_baixa_est = ((df_visao_estatura['DS_ESTATURA_IDADE'] == 'BAIXA ESTATURA PARA A IDADE').sum() / qtd_total) * 100\n",
    "qtd_muito_baixa_est = ((df_visao_estatura['DS_ESTATURA_IDADE'] == 'MUITO BAIXA ESTATURA PARA A IDADE').sum() / qtd_total) * 100\n",
    "\n",
    "print(\"Total:\", qtd_total)\n",
    "print(\"Estatura Adequada para a idade: {:.2f}%\".format(qtd_est_adequada)\n",
    "      ,\"\\nBaixa Estatura para a idade: {:.2f}%\".format(qtd_baixa_est)\n",
    "      ,\"\\nMuito Baixa Estatura para a idade: {:.2f}%\".format(qtd_muito_baixa_est)\n",
    "    )"
   ]
  },
  {
   "cell_type": "code",
   "execution_count": 28,
   "metadata": {},
   "outputs": [
    {
     "name": "stdout",
     "output_type": "stream",
     "text": [
      "Qtd. Peso Elevado: 104 \n",
      "Qtd. Peso Adequado: 4982 \n",
      "Qtd. Peso Baixo: 292 \n",
      "Qtd. Peso Muito Baixo: 102\n"
     ]
    }
   ],
   "source": [
    "peso_adequado = (df_visao_estatura['DS_PESO_IDADE'] == 'PESO ADEQUADO PARA A IDADE').sum()\n",
    "peso_muito_baixo = (df_visao_estatura['DS_PESO_IDADE'] == 'MUITO BAIXO PESO PARA A IDADE').sum()\n",
    "peso_elevado = (df_visao_estatura['DS_PESO_IDADE'] ==  'PESO ELEVADO PARA A IDADE').sum()\n",
    "peso_baixo = (df_visao_estatura['DS_PESO_IDADE'] ==  'BAIXO PESO PARA A IDADE').sum()\n",
    "\n",
    "print(\"Qtd. Peso Elevado:\", peso_elevado\n",
    "      ,\"\\nQtd. Peso Adequado:\", peso_adequado\n",
    "      ,\"\\nQtd. Peso Baixo:\", peso_baixo\n",
    "      ,\"\\nQtd. Peso Muito Baixo:\", peso_muito_baixo\n",
    "    )"
   ]
  }
 ],
 "metadata": {
  "kernelspec": {
   "display_name": "Python 3",
   "language": "python",
   "name": "python3"
  },
  "language_info": {
   "codemirror_mode": {
    "name": "ipython",
    "version": 3
   },
   "file_extension": ".py",
   "mimetype": "text/x-python",
   "name": "python",
   "nbconvert_exporter": "python",
   "pygments_lexer": "ipython3",
   "version": "3.11.2"
  }
 },
 "nbformat": 4,
 "nbformat_minor": 2
}
