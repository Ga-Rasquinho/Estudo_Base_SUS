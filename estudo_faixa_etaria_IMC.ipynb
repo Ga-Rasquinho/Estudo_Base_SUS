{
 "cells": [
  {
   "cell_type": "code",
   "execution_count": 2,
   "metadata": {},
   "outputs": [],
   "source": [
    "import pandas as pd\n",
    "from scipy.stats import chi2_contingency"
   ]
  },
  {
   "cell_type": "code",
   "execution_count": 3,
   "metadata": {},
   "outputs": [],
   "source": [
    "file = \"amostra.csv\"\n",
    "data = pd.read_csv(file)"
   ]
  },
  {
   "cell_type": "markdown",
   "metadata": {},
   "source": [
    "### Visão do DataFrame"
   ]
  },
  {
   "cell_type": "code",
   "execution_count": 4,
   "metadata": {},
   "outputs": [
    {
     "name": "stdout",
     "output_type": "stream",
     "text": [
      "DSEI_GESTAO                  object\n",
      "DS_POLO_BASE                 object\n",
      "CO_MUNICIPIO_IBGE             int64\n",
      "NO_MUNICIPIO                 object\n",
      "SG_UF                        object\n",
      "CO_INDIO_DESIDENTIFICADO     object\n",
      "TP_SEXO                      object\n",
      "DT_ATENDIMENTO               object\n",
      "NU_PESO                     float64\n",
      "NU_ALTURA                   float64\n",
      "IDADE_ATEND                  object\n",
      "FAIXA_ETARIA                 object\n",
      "TIPO_ALEITAMENTO             object\n",
      "DS_PESO_IDADE                object\n",
      "DS_ESTATURA_IDADE            object\n",
      "DS_IMC_IDADE                 object\n",
      "dtype: object\n"
     ]
    }
   ],
   "source": [
    "df = pd.DataFrame(data)\n",
    "print(df.dtypes)"
   ]
  },
  {
   "cell_type": "markdown",
   "metadata": {},
   "source": [
    "### Visão dos dados: IMC e Faixa Etária"
   ]
  },
  {
   "cell_type": "code",
   "execution_count": 5,
   "metadata": {},
   "outputs": [
    {
     "name": "stdout",
     "output_type": "stream",
     "text": [
      "['EUTROFIA' 'RISCO DE SOBREPESO' 'SOBREPESO' 'MAGREZA' 'OBESIDADE'\n",
      " 'MAGREZA ACENTUADA']\n"
     ]
    }
   ],
   "source": [
    "visao_ds_imc_idade = df['DS_IMC_IDADE'].unique()\n",
    "print(visao_ds_imc_idade)"
   ]
  },
  {
   "cell_type": "markdown",
   "metadata": {},
   "source": [
    "### Contagem de dados da coluna DS_IMC_IDADE"
   ]
  },
  {
   "cell_type": "code",
   "execution_count": 87,
   "metadata": {},
   "outputs": [
    {
     "name": "stdout",
     "output_type": "stream",
     "text": [
      "Valor Total: 9181 \n",
      "Qtd. Eutofria: 5694 \n",
      "Qtd. Risco Sobrepeso: 2040 \n",
      "Qtd. Sobrepeso: 757 \n",
      "Qtd. Magreza 197 \n",
      "Qtd. Obesidade: 355 \n",
      "Qtd. Magreza Acentuada: 138\n"
     ]
    }
   ],
   "source": [
    "qtd_total = df['DS_IMC_IDADE'].count()\n",
    "qtd_eutrofia = (df['DS_IMC_IDADE'] == \"EUTROFIA\").sum()\n",
    "qtd_risco_sobrepeso = (df['DS_IMC_IDADE'] == \"RISCO DE SOBREPESO\").sum()\n",
    "qtd_sobrepeso = (df['DS_IMC_IDADE'] == \"SOBREPESO\").sum()\n",
    "qtd_magreza = (df['DS_IMC_IDADE'] == \"MAGREZA\").sum()\n",
    "qtd_obesidade = (df['DS_IMC_IDADE'] == \"OBESIDADE\").sum()\n",
    "qtd_magreza_acentuada = (df['DS_IMC_IDADE'] == \"MAGREZA ACENTUADA\").sum()\n",
    "print(\"Valor Total:\", qtd_total,\n",
    "      \"\\nQtd. Eutofria:\", qtd_eutrofia, \"\\nQtd. Risco Sobrepeso:\", qtd_risco_sobrepeso\n",
    "      , \"\\nQtd. Sobrepeso:\", qtd_sobrepeso, \"\\nQtd. Magreza\", qtd_magreza\n",
    "      , \"\\nQtd. Obesidade:\", qtd_obesidade, \"\\nQtd. Magreza Acentuada:\", qtd_magreza_acentuada)"
   ]
  },
  {
   "cell_type": "markdown",
   "metadata": {},
   "source": [
    "### Visão dos Dados FAIXA_ETARIA"
   ]
  },
  {
   "cell_type": "code",
   "execution_count": 95,
   "metadata": {},
   "outputs": [
    {
     "name": "stdout",
     "output_type": "stream",
     "text": [
      "['MENOR DE 6 MESES' 'ENTRE 6 MESES A 2 ANOS' 'ENTRE 2 ANOS A 5 ANOS']\n"
     ]
    }
   ],
   "source": [
    "df_visao_colunas = df['FAIXA_ETARIA'].unique()\n",
    "print(df_visao_colunas)"
   ]
  },
  {
   "cell_type": "markdown",
   "metadata": {},
   "source": [
    "### Visão das Faixas Etárias"
   ]
  },
  {
   "cell_type": "code",
   "execution_count": 96,
   "metadata": {},
   "outputs": [
    {
     "name": "stdout",
     "output_type": "stream",
     "text": [
      "Valor Total:  9181\n",
      "Quantidade Faixa 2 a 5 anos: 5480\n",
      "Quantidade Faixa menor de 6 meses: 810\n",
      "Quantidade Entre 6 meses a 2 anos: 2891\n"
     ]
    }
   ],
   "source": [
    "qtd_total_faixa_etaria = (df['FAIXA_ETARIA']).count()\n",
    "qtd_faixa_2_a_5_anos = (df['FAIXA_ETARIA'] == \"ENTRE 2 ANOS A 5 ANOS\").sum()\n",
    "qtd_faixa_menor_6_meses = (df['FAIXA_ETARIA'] == 'MENOR DE 6 MESES').sum()\n",
    "qtd_entre_6_a_2_meses = (df['FAIXA_ETARIA'] == 'ENTRE 6 MESES A 2 ANOS').sum()\n",
    "\n",
    "print(\"Valor Total: \", qtd_total_faixa_etaria)\n",
    "print(\"Quantidade Faixa 2 a 5 anos:\", qtd_faixa_2_a_5_anos)\n",
    "print(\"Quantidade Faixa menor de 6 meses:\", qtd_faixa_menor_6_meses)\n",
    "print(\"Quantidade Entre 6 meses a 2 anos:\", qtd_entre_6_a_2_meses)"
   ]
  },
  {
   "cell_type": "markdown",
   "metadata": {},
   "source": [
    "### Filtragens e Somas"
   ]
  },
  {
   "cell_type": "code",
   "execution_count": 9,
   "metadata": {},
   "outputs": [
    {
     "name": "stdout",
     "output_type": "stream",
     "text": [
      "Valor Eutrofia: 3666 \n",
      "Valor de Risco de Sobrepeso: 1132 \n",
      "Valor de Sobrepeso: 358 \n",
      "Valor de Magreza: 100 \n",
      "Valor de Obesidade: 156 \n",
      "Valor de Magreza Acentuada: 68\n"
     ]
    }
   ],
   "source": [
    "df_sobrepeso = df[df['DS_IMC_IDADE'] == \"SOBREPESO\"]\n",
    "qtd_faixa_2_a_5_anos_sobrepeso = (df_sobrepeso['FAIXA_ETARIA'] == \"ENTRE 2 ANOS A 5 ANOS\").sum()\n",
    "\n",
    "df_magreza = df[df['DS_IMC_IDADE'] == \"MAGREZA\"]\n",
    "qtd_faixa_2_a_5_anos_magreza = (df_magreza['FAIXA_ETARIA'] == \"ENTRE 2 ANOS A 5 ANOS\").sum()\n",
    "\n",
    "df_obesidade = df[df['DS_IMC_IDADE'] == \"OBESIDADE\"]\n",
    "qtd_faixa_2_a_5_anos_obesidade = (df_obesidade['FAIXA_ETARIA'] == \"ENTRE 2 ANOS A 5 ANOS\").sum()\n",
    "\n",
    "df_magreza_acentuada = df[df['DS_IMC_IDADE'] == \"MAGREZA ACENTUADA\"]\n",
    "qtd_faixa_2_a_5_anos_magreza_acentuada = (df_magreza_acentuada['FAIXA_ETARIA'] == \"ENTRE 2 ANOS A 5 ANOS\").sum()\n",
    "\n",
    "df_risco_sobrepeso = df[df['DS_IMC_IDADE'] == \"RISCO DE SOBREPESO\"]\n",
    "qtd_faixa_2_a_5_anos_risco_sobrepeso = (df_risco_sobrepeso['FAIXA_ETARIA'] == \"ENTRE 2 ANOS A 5 ANOS\").sum()\n",
    "\n",
    "df_eutrofia = df[df['DS_IMC_IDADE'] == \"EUTROFIA\"]\n",
    "qtd_faixa_2_a_5_anos_eutrofia = (df_eutrofia['FAIXA_ETARIA'] == \"ENTRE 2 ANOS A 5 ANOS\").sum()\n",
    "\n",
    "print(\"Valor Eutrofia:\", qtd_faixa_2_a_5_anos_eutrofia\n",
    "      ,\"\\nValor de Risco de Sobrepeso:\", qtd_faixa_2_a_5_anos_risco_sobrepeso\n",
    "      ,\"\\nValor de Sobrepeso:\", qtd_faixa_2_a_5_anos_sobrepeso\n",
    "      ,\"\\nValor de Magreza:\", qtd_faixa_2_a_5_anos_magreza\n",
    "      ,\"\\nValor de Obesidade:\", qtd_faixa_2_a_5_anos_obesidade\n",
    "      ,\"\\nValor de Magreza Acentuada:\", qtd_faixa_2_a_5_anos_magreza_acentuada\n",
    "\n",
    "      )\n"
   ]
  },
  {
   "cell_type": "markdown",
   "metadata": {},
   "source": [
    "### Média dos Casos\n",
    "##### Média baseada em indivíduos de faixa etaria: 2 a 5 anos"
   ]
  },
  {
   "cell_type": "code",
   "execution_count": 10,
   "metadata": {},
   "outputs": [
    {
     "name": "stdout",
     "output_type": "stream",
     "text": [
      "Saídas Esperadas: \n",
      "\n",
      "PC Eutrofia: 0.3993029081799368 \n",
      "PC Risco de Sobrepeso: 0.1232981156736739 \n",
      "PC Sobrepeso: 0.038993573684783796 \n",
      "PC Magreza: 0.010892059688487093 \n",
      "PC Obesidade: 0.016991613114039864 \n",
      "PC Magreza Acentuada: 0.007406600588171223 \n",
      "\n",
      "Valor Total: 0.5968848709290927\n"
     ]
    }
   ],
   "source": [
    "# Eutrofia\n",
    "media_eutrofia_2_5_anos = qtd_faixa_2_a_5_anos_eutrofia / qtd_total\n",
    "\n",
    "# Risco de sobrepeso\n",
    "media_faixa_2_5_anos_risco_sobrepeso = qtd_faixa_2_a_5_anos_risco_sobrepeso / qtd_total\n",
    "\n",
    "# Sobrepeso\n",
    "media_faixa_2_5_anos_sobrepeso = qtd_faixa_2_a_5_anos_sobrepeso / qtd_total\n",
    "\n",
    "# Magreza\n",
    "media_faixa_2_5_anos_magreza = qtd_faixa_2_a_5_anos_magreza / qtd_total\n",
    "\n",
    "# Obesidade\n",
    "media_faixa_2_5_anos_obesidade = qtd_faixa_2_a_5_anos_obesidade / qtd_total \n",
    "\n",
    "# Magreza Acentuada \n",
    "media_faixa_2_5_anos_magreza_acentuada = qtd_faixa_2_a_5_anos_magreza_acentuada / qtd_total\n",
    "\n",
    "# Valor total\n",
    "total_2_5_anos = media_eutrofia_2_5_anos + media_faixa_2_5_anos_risco_sobrepeso + media_faixa_2_5_anos_sobrepeso + media_faixa_2_5_anos_magreza + media_faixa_2_5_anos_obesidade + media_faixa_2_5_anos_magreza_acentuada\n",
    "print(\"Saídas Esperadas:\"\n",
    "      , \"\\n\\nPC Eutrofia:\", media_eutrofia_2_5_anos\n",
    "      , \"\\nPC Risco de Sobrepeso:\", media_faixa_2_5_anos_risco_sobrepeso\n",
    "      , \"\\nPC Sobrepeso:\", media_faixa_2_5_anos_sobrepeso\n",
    "      , \"\\nPC Magreza:\", media_faixa_2_5_anos_magreza\n",
    "      , \"\\nPC Obesidade:\", media_faixa_2_5_anos_obesidade\n",
    "      , \"\\nPC Magreza Acentuada:\", media_faixa_2_5_anos_magreza_acentuada\n",
    "      , \"\\n\\nValor Total:\", total_2_5_anos)\n"
   ]
  },
  {
   "cell_type": "markdown",
   "metadata": {},
   "source": [
    "### Teste de Qui-Quadro"
   ]
  },
  {
   "cell_type": "code",
   "execution_count": 12,
   "metadata": {},
   "outputs": [
    {
     "name": "stdout",
     "output_type": "stream",
     "text": [
      "Teste de Qui-Quadrado: 238.15165939303466\n",
      "Valor p: 1.932076128835257e-52\n"
     ]
    }
   ],
   "source": [
    "# Dados \n",
    "observacoes = [3666, 1132, 358, 100, 156, 68]\n",
    "total_com_risco_sobrepeso = 9181\n",
    "\n",
    "# Porcentagens calculadas com base nos valores fornecidos\n",
    "proporcoes_esperadas = [0.3993, 0.1232, 0.0389, 0.0108, 0.0169, 0.0074]\n",
    "\n",
    "# Calcula as expectativas sob a hipótese nula\n",
    "expectativas = [prop * total_com_risco_sobrepeso for prop in proporcoes_esperadas]\n",
    "\n",
    "# Reorganiza os dados em uma tabela de contingência\n",
    "tabela_contingencia = [observacoes[:3], observacoes[3:]]\n",
    "\n",
    "# Realiza o teste qui-quadrado de independência\n",
    "chi2, p_valor, _, _ = chi2_contingency(tabela_contingencia)\n",
    "\n",
    "# Exibe o resultado\n",
    "print(f\"Teste de Qui-Quadrado: {chi2}\")\n",
    "print(f\"Valor p: {p_valor}\")\n"
   ]
  },
  {
   "cell_type": "markdown",
   "metadata": {},
   "source": [
    "### Cálculo de Porcentagem Para os Casos"
   ]
  },
  {
   "cell_type": "code",
   "execution_count": 11,
   "metadata": {},
   "outputs": [
    {
     "name": "stdout",
     "output_type": "stream",
     "text": [
      "Média em Porcentagem: IMC na faixa etária de 2 a 5 anos \n",
      "\n",
      "PC Eutrofia: 39.93% \n",
      "PC Risco de Sobrepeso: 12.33% \n",
      "PC Sobrepeso: 3.90% \n",
      "PC Magreza: 1.09% \n",
      "PC Obesidade: 1.70% \n",
      "PC Magreza Acentuada: 0.74% \n",
      "\n",
      "Valor Total: 59.69%\n"
     ]
    }
   ],
   "source": [
    "#Eutrofia\n",
    "media_eutrofia_2_5_anos = (qtd_faixa_2_a_5_anos_eutrofia / qtd_total) * 100\n",
    "\n",
    "#Risco de sobrepeso\n",
    "media_faixa_2_5_anos_risco_sobrepeso = (qtd_faixa_2_a_5_anos_risco_sobrepeso / qtd_total) * 100 \n",
    "\n",
    "#Sobrepeso\n",
    "media_faixa_2_5_anos_sobrepeso = (qtd_faixa_2_a_5_anos_sobrepeso / qtd_total) * 100\n",
    "\n",
    "#Magreza\n",
    "media_faixa_2_5_anos_magreza = (qtd_faixa_2_a_5_anos_magreza / qtd_total) * 100\n",
    "\n",
    "#Obesidade\n",
    "media_faixa_2_5_anos_obesidade = (qtd_faixa_2_a_5_anos_obesidade / qtd_total) * 100\n",
    "\n",
    "#Magreza Acentuada \n",
    "media_faixa_2_5_anos_magreza_acentuada = (qtd_faixa_2_a_5_anos_magreza_acentuada / qtd_total) * 100\n",
    "\n",
    "#Valor total\n",
    "total_2_5_anos = media_eutrofia_2_5_anos + media_faixa_2_5_anos_risco_sobrepeso + media_faixa_2_5_anos_sobrepeso + media_faixa_2_5_anos_magreza + media_faixa_2_5_anos_obesidade + media_faixa_2_5_anos_magreza_acentuada\n",
    "print(\"Média em Porcentagem: IMC na faixa etária de 2 a 5 anos\"\n",
    "      ,\"\\n\\nPC Eutrofia: {:.2f}%\".format(media_eutrofia_2_5_anos)\n",
    "      ,\"\\nPC Risco de Sobrepeso: {:.2f}%\".format(media_faixa_2_5_anos_risco_sobrepeso)\n",
    "      ,\"\\nPC Sobrepeso: {:.2f}%\".format(media_faixa_2_5_anos_sobrepeso)\n",
    "      ,\"\\nPC Magreza: {:.2f}%\".format(media_faixa_2_5_anos_magreza)\n",
    "      ,\"\\nPC Obesidade: {:.2f}%\".format(media_faixa_2_5_anos_obesidade)\n",
    "      ,\"\\nPC Magreza Acentuada: {:.2f}%\".format(media_faixa_2_5_anos_magreza_acentuada)\n",
    "      ,\"\\n\\nValor Total: {:.2f}%\".format(total_2_5_anos)\n",
    "    )"
   ]
  },
  {
   "cell_type": "markdown",
   "metadata": {},
   "source": [
    "# Visão de dados: Alturas e Pesos\n",
    "<p>Filtros utilizados na visão:<br> ['FAIXA_ETARIA'] == \"ENTRE 2 ANOS A 5 ANOS\" <br> ['DS_PESO_IDADE'] == 'PESO ADEQUADO PARA A IDADE'"
   ]
  },
  {
   "cell_type": "code",
   "execution_count": 107,
   "metadata": {},
   "outputs": [
    {
     "name": "stdout",
     "output_type": "stream",
     "text": [
      "Qtd. Peso Adequado: 4982\n"
     ]
    }
   ],
   "source": [
    "df_visao_estatura = df[(df['FAIXA_ETARIA'] == \"ENTRE 2 ANOS A 5 ANOS\") & (df['DS_PESO_IDADE'] == 'PESO ADEQUADO PARA A IDADE')]\n",
    "\n",
    "peso_adequado = (df_visao_estatura['DS_PESO_IDADE'] == 'PESO ADEQUADO PARA A IDADE').sum()\n",
    "\n",
    "print(\"Qtd. Peso Adequado:\", peso_adequado\n",
    "    )"
   ]
  },
  {
   "cell_type": "markdown",
   "metadata": {},
   "source": [
    "### Porcentagem de indivíduos com: \n",
    "<p> Faixa etária entre 2 anos a 5 anos <br> Peso adequado para idade </p>"
   ]
  },
  {
   "cell_type": "code",
   "execution_count": 102,
   "metadata": {},
   "outputs": [
    {
     "name": "stdout",
     "output_type": "stream",
     "text": [
      "Total: 9181\n",
      "Estatura Adequada para a idade: 42.75% \n",
      "Baixa Estatura para a idade: 8.71% \n",
      "Muito Baixa Estatura para a idade: 2.80%\n"
     ]
    }
   ],
   "source": [
    "qtd_est_adequada = ((df_visao_estatura['DS_ESTATURA_IDADE'] == 'ESTATURA ADEQUADA PARA A IDADE').sum() / qtd_total) * 100\n",
    "qtd_baixa_est = ((df_visao_estatura['DS_ESTATURA_IDADE'] == 'BAIXA ESTATURA PARA A IDADE').sum() / qtd_total) * 100\n",
    "qtd_muito_baixa_est = ((df_visao_estatura['DS_ESTATURA_IDADE'] == 'MUITO BAIXA ESTATURA PARA A IDADE').sum() / qtd_total) * 100\n",
    "\n",
    "print(\"Total:\", qtd_total)\n",
    "print(\"Estatura Adequada para a idade: {:.2f}%\".format(qtd_est_adequada)\n",
    "      ,\"\\nBaixa Estatura para a idade: {:.2f}%\".format(qtd_baixa_est)\n",
    "      ,\"\\nMuito Baixa Estatura para a idade: {:.2f}%\".format(qtd_muito_baixa_est)\n",
    "    )"
   ]
  },
  {
   "cell_type": "markdown",
   "metadata": {},
   "source": [
    "# Visão de valores da coluna: NU_ALTURA\n",
    "##### Filtros utilizados na visão: \n",
    "<p>['FAIXA_ETARIA'] == \"ENTRE 2 ANOS A 5 ANOS\"<br>\n",
    "['DS_PESO_IDADE'] == 'PESO ADEQUADO PARA A IDADE'\n",
    "</p>"
   ]
  },
  {
   "cell_type": "code",
   "execution_count": 68,
   "metadata": {},
   "outputs": [
    {
     "name": "stdout",
     "output_type": "stream",
     "text": [
      "[ 72.   73.   74.   75.   75.5  76.   76.5  77.   77.5  78.   79.   79.5\n",
      "  80.   80.5  81.   81.5  82.   82.5  83.   83.5  84.   84.5  85.   85.5\n",
      "  86.   86.5  87.   87.5  88.   88.5  89.   89.5  90.   90.5  91.   91.5\n",
      "  92.   92.5  93.   93.5  94.   94.5  95.   95.5  96.   96.5  97.   97.5\n",
      "  98.   98.5  99.   99.5 100.  100.5 101.  101.5 102.  102.5 103.  103.5\n",
      " 104.  104.5 105.  105.5 106.  106.5 107.  107.5 108.  108.5 109.  110.\n",
      " 110.5 111.  111.5 112.  113.  113.5 114.  115.  116.  117.  118.  119.\n",
      " 120.  122.  123.  132.  134. ]\n"
     ]
    }
   ],
   "source": [
    "df_ordenado = df_visao_estatura.sort_values(by=\"NU_ALTURA\", ascending=True)\n",
    "lista_altura = df_ordenado['NU_ALTURA'].unique()\n",
    "print(lista_altura)"
   ]
  },
  {
   "cell_type": "markdown",
   "metadata": {},
   "source": [
    "### Visão de intervalo entre quartis"
   ]
  },
  {
   "cell_type": "code",
   "execution_count": 86,
   "metadata": {},
   "outputs": [
    {
     "name": "stdout",
     "output_type": "stream",
     "text": [
      "Mediana: 94.0\n",
      "Q1: 88.0 \n",
      "Q2: 100.0\n",
      "IQR: 12.0\n",
      "Limite Inferior: 70.0\n",
      "Limite Superior: 118.0\n",
      "\n",
      "\n",
      "Outliers:\n",
      "                  NO_MUNICIPIO TP_SEXO  NU_ALTURA\n",
      "9056  BENJAMIN CONSTANT DO SUL       F      119.0\n",
      "799                  TONANTINS       F      119.0\n",
      "1682                 TABATINGA       F      120.0\n",
      "3376                  SANTAREM       M      120.0\n",
      "7373  BENJAMIN CONSTANT DO SUL       M      120.0\n",
      "8730                    JATOBA       F      120.0\n",
      "423                   IBIMIRIM       M      122.0\n",
      "4766              JACAREACANGA       M      123.0\n",
      "2294      CARNAUBEIRA DA PENHA       M      132.0\n",
      "5852           SANTA TEREZINHA       M      134.0\n"
     ]
    }
   ],
   "source": [
    "mediana_altura = df_ordenado['NU_ALTURA'].median()\n",
    "print(\"Mediana:\", mediana_altura)\n",
    "\n",
    "q1 = df_ordenado['NU_ALTURA'].quantile(0.25)\n",
    "q3 = df_ordenado['NU_ALTURA'].quantile(0.75)\n",
    "print(\"Q1:\", q1,\n",
    "      \"\\nQ2:\", q3)\n",
    "\n",
    "iqr = q3 - q1\n",
    "print(\"IQR:\", iqr)\n",
    "\n",
    "limite_inferior = q1 - 1.5 * iqr\n",
    "print(\"Limite Inferior:\", limite_inferior)\n",
    "limite_superior = q3 + 1.5 * iqr\n",
    "print(\"Limite Superior:\", limite_superior)\n",
    "\n",
    "outliers = df_ordenado[(df_ordenado['NU_ALTURA'] < limite_inferior) | (df_ordenado['NU_ALTURA'] > limite_superior)]\n",
    "print(\"\\n\\nOutliers:\")\n",
    "print(outliers[['NO_MUNICIPIO', 'TP_SEXO', 'NU_ALTURA']])\n"
   ]
  }
 ],
 "metadata": {
  "kernelspec": {
   "display_name": "Python 3",
   "language": "python",
   "name": "python3"
  },
  "language_info": {
   "codemirror_mode": {
    "name": "ipython",
    "version": 3
   },
   "file_extension": ".py",
   "mimetype": "text/x-python",
   "name": "python",
   "nbconvert_exporter": "python",
   "pygments_lexer": "ipython3",
   "version": "3.11.2"
  }
 },
 "nbformat": 4,
 "nbformat_minor": 2
}
